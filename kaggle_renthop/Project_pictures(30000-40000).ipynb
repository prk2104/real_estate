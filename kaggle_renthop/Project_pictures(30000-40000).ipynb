{
 "cells": [
  {
   "cell_type": "code",
   "execution_count": null,
   "metadata": {
    "collapsed": true
   },
   "outputs": [],
   "source": [
    "import pandas as pd\n",
    "import numpy as np\n",
    "import cv2\n",
    "import os, os.path\n",
    "import glob"
   ]
  },
  {
   "cell_type": "code",
   "execution_count": null,
   "metadata": {
    "collapsed": true
   },
   "outputs": [],
   "source": [
    "#EXTRACTING DATA FROM PHOTOS (1-10000)\n",
    "\n",
    "#Loading listing_id\n",
    "a = np.genfromtxt('listing_id.csv', delimiter=',').astype(int)\n",
    "b = np.genfromtxt('listing_id(10000-20000).csv', delimiter=',')\n",
    "#a = np.array([7170325, 7092344, 7158677])\n",
    "a = pd.DataFrame({'listing_id': b[:,1]} , index = b[:,0].astype(int))\n",
    "a.listing_id = a.listing_id.astype(int)\n",
    "\n",
    "#Get features\n",
    "photo_cnt = np.array([])\n",
    "photo_res = np.array([])\n",
    "photo_w = np.array([])\n",
    "photo_h = np.array([])\n",
    "photo_thresh = np.array([])\n",
    "for j, i in enumerate(a.listing_id):\n",
    "    print(j)\n",
    "    path = 'images\\%s' % i\n",
    "    #print(path)\n",
    "    #for f in os.listdir(os.path.join(path,'*.jpg')):\n",
    "        #print(f)\n",
    "    #print(len(glob.glob(os.path.join(path,'*.jpg'))))\n",
    "    photo_cnt = np.append(photo_cnt, len(glob.glob(os.path.join(path,'*.jpg'))))\n",
    "    \n",
    "    photo_res_temp = np.array([])\n",
    "    photo_w_temp = np.array([])\n",
    "    photo_h_temp = np.array([])\n",
    "    photo_thresh_temp = np.array([])\n",
    "    for filename in glob.glob(os.path.join(path,'*.jpg')):\n",
    "        #print(filename)\n",
    "        img = cv2.imread(filename,0)\n",
    "        #print(img.shape)\n",
    "        photo_res_temp = np.append(photo_res_temp, img.shape[0]*img.shape[1])\n",
    "        photo_w_temp = np.append(photo_w_temp, img.shape[0])\n",
    "        photo_h_temp = np.append(photo_h_temp, img.shape[1])\n",
    "        thresh = cv2.adaptiveThreshold(img,255,cv2.ADAPTIVE_THRESH_GAUSSIAN_C,cv2.THRESH_BINARY_INV,5,5)\n",
    "        photo_thresh_temp = np.append(photo_thresh_temp,(thresh/255).sum())\n",
    "        #cv2.imshow('img', thresh)\n",
    "        #cv2.waitKey(0)\n",
    "        #cv2.destroyAllWindows()\n",
    "    photo_res = np.append(photo_res, photo_res_temp.mean())\n",
    "    photo_w = np.append(photo_w, photo_w_temp.mean())\n",
    "    photo_h = np.append(photo_h, photo_w_temp.mean())  \n",
    "    photo_thresh = np.append(photo_thresh, photo_thresh_temp.mean())\n",
    "result = pd.DataFrame({'listing_id': a.listing_id, 'photo_cnt': photo_cnt, 'photo_res': photo_res, 'photo_w':photo_w, 'photo_h':photo_h, 'photo_thresh':photo_thresh}, index= a.index)\n",
    "result.to_csv('photo(10000-20000).csv')"
   ]
  }
 ],
 "metadata": {
  "kernelspec": {
   "display_name": "Python [default]",
   "language": "python",
   "name": "python3"
  },
  "language_info": {
   "codemirror_mode": {
    "name": "ipython",
    "version": 3
   },
   "file_extension": ".py",
   "mimetype": "text/x-python",
   "name": "python",
   "nbconvert_exporter": "python",
   "pygments_lexer": "ipython3",
   "version": "3.5.2"
  }
 },
 "nbformat": 4,
 "nbformat_minor": 1
}
