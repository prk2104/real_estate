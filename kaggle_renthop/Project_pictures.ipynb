{
 "cells": [
  {
   "cell_type": "code",
   "execution_count": 2,
   "metadata": {
    "collapsed": false
   },
   "outputs": [],
   "source": [
    "import pandas as pd\n",
    "import numpy as np\n",
    "import cv2\n",
    "import os, os.path\n",
    "import glob\n"
   ]
  },
  {
   "cell_type": "code",
   "execution_count": null,
   "metadata": {
    "collapsed": true
   },
   "outputs": [],
   "source": [
    "img = cv2.imread('images/6811957/6811957_3dad56e8bf3477b2900ca39d57df041e.jpg')\n",
    "cv2.imshow('img', img)\n",
    "cv2.waitKey(0)\n",
    "cv2.destroyAllWindows()"
   ]
  },
  {
   "cell_type": "code",
   "execution_count": 167,
   "metadata": {
    "collapsed": false
   },
   "outputs": [
    {
     "data": {
      "text/plain": [
       "Int64Index([50423, 50424, 50428, 50429, 50432, 50434, 50437, 50440, 50442,\n",
       "            50443,\n",
       "            ...\n",
       "            75298, 75299, 75300, 75301, 75303, 75304, 75305, 75307, 75308,\n",
       "            75310],\n",
       "           dtype='int64', length=10000)"
      ]
     },
     "execution_count": 167,
     "metadata": {},
     "output_type": "execute_result"
    }
   ],
   "source": [
    "a = np.genfromtxt('listing_id.csv', delimiter=',').astype(int)\n",
    "b = np.genfromtxt('listing_id(20000-30000).csv', delimiter=',')\n",
    "a = np.array([7170325, 7092344, 7158677])\n",
    "a = pd.DataFrame({'listing_id': b[:,1]} , index = b[:,0].astype(int))\n",
    "a.listing_id = a.listing_id.astype(int)\n",
    "a.index"
   ]
  },
  {
   "cell_type": "code",
   "execution_count": 8,
   "metadata": {
    "collapsed": false
   },
   "outputs": [
    {
     "name": "stdout",
     "output_type": "stream",
     "text": [
      "0\n",
      "1\n",
      "2\n"
     ]
    }
   ],
   "source": [
    "#EXTRACTING DATA FROM PHOTOS (1-10000)\n",
    "\n",
    "#Loading listing_id\n",
    "#a = np.genfromtxt('listing_id.csv', delimiter=',').astype(int)\n",
    "#b = np.genfromtxt('listing_id(20000-30000).csv', delimiter=',')\n",
    "a = np.array([7170325, 7092344, 7158677])\n",
    "#a = pd.DataFrame({'listing_id': b[:,1]} , index = b[:,0].astype(int))\n",
    "#a.listing_id = a.listing_id.astype(int)\n",
    "\n",
    "#Get features\n",
    "photo_cnt = np.array([])\n",
    "photo_res = np.array([])\n",
    "photo_w = np.array([])\n",
    "photo_h = np.array([])\n",
    "photo_thresh = np.array([])\n",
    "for j, i in enumerate(a):\n",
    "    print(j)\n",
    "    path = 'images\\%s' % i\n",
    "    #print(path)\n",
    "    #for f in os.listdir(os.path.join(path,'*.jpg')):\n",
    "        #print(f)\n",
    "    #print(len(glob.glob(os.path.join(path,'*.jpg'))))\n",
    "    photo_cnt = np.append(photo_cnt, len(glob.glob(os.path.join(path,'*.jpg'))))\n",
    "    \n",
    "    photo_res_temp = np.array([])\n",
    "    photo_w_temp = np.array([])\n",
    "    photo_h_temp = np.array([])\n",
    "    photo_thresh_temp = np.array([])\n",
    "    for filename in glob.glob(os.path.join(path,'*.jpg')):\n",
    "        #print(filename)\n",
    "        img = cv2.imread(filename,0)\n",
    "        #print(img.shape)\n",
    "        photo_res_temp = np.append(photo_res_temp, img.shape[0]*img.shape[1])\n",
    "        photo_w_temp = np.append(photo_w_temp, img.shape[0])\n",
    "        photo_h_temp = np.append(photo_h_temp, img.shape[1])\n",
    "        thresh = cv2.adaptiveThreshold(img,255,cv2.ADAPTIVE_THRESH_GAUSSIAN_C,cv2.THRESH_BINARY_INV,5,5)\n",
    "        photo_thresh_temp = np.append(photo_thresh_temp,(thresh/255).sum())\n",
    "        cv2.imshow('img', thresh)\n",
    "        cv2.waitKey(0)\n",
    "        cv2.destroyAllWindows()\n",
    "        cv2.imwrite('%s' %filename, thresh)\n",
    "    photo_res = np.append(photo_res, photo_res_temp.mean())\n",
    "    photo_w = np.append(photo_w, photo_w_temp.mean())\n",
    "    photo_h = np.append(photo_h, photo_w_temp.mean())  \n",
    "    photo_thresh = np.append(photo_thresh, photo_thresh_temp.mean())\n",
    "#result = pd.DataFrame({'listing_id': a.listing_id, 'photo_cnt': photo_cnt, 'photo_res': photo_res, 'photo_w':photo_w, 'photo_h':photo_h, 'photo_thresh':photo_thresh}, index= a.index)\n",
    "#result.to_csv('photo(20000-30000).csv')"
   ]
  },
  {
   "cell_type": "code",
   "execution_count": 29,
   "metadata": {
    "collapsed": false
   },
   "outputs": [
    {
     "data": {
      "text/plain": [
       "6931920"
      ]
     },
     "execution_count": 29,
     "metadata": {},
     "output_type": "execute_result"
    }
   ],
   "source": [
    "img = cv2.imread('Images for Presentation/2.png', 0)\n",
    "thresh = cv2.adaptiveThreshold(img,255,cv2.ADAPTIVE_THRESH_GAUSSIAN_C,cv2.THRESH_BINARY_INV,21,8)\n",
    "\n",
    "cv2.imshow('img', img)\n",
    "cv2.waitKey(0)\n",
    "cv2.destroyAllWindows()\n",
    "cv2.imwrite('1.png',thresh)\n",
    "np.sum(img)"
   ]
  },
  {
   "cell_type": "code",
   "execution_count": null,
   "metadata": {
    "collapsed": true
   },
   "outputs": [],
   "source": [
    "result.listing_id = a.listing_id\n",
    "result\n",
    "result.to_csv('photo(20000-30000).csv')"
   ]
  },
  {
   "cell_type": "code",
   "execution_count": 23,
   "metadata": {
    "collapsed": false
   },
   "outputs": [
    {
     "data": {
      "text/plain": [
       "['images/7095701\\\\7095701_2da030acab5b63caa3022f8aaf8c36e7.jpg',\n",
       " 'images/7095701\\\\7095701_4177e4dea69bcc589b30b4223662bd14.jpg',\n",
       " 'images/7095701\\\\7095701_565768e653c01d9c56fc580f94995ee0.jpg',\n",
       " 'images/7095701\\\\7095701_5c9b6874f03a0606690e7027480d09de.jpg',\n",
       " 'images/7095701\\\\7095701_6bf7c31507a2924ef56ea3c0d8661e0f.jpg',\n",
       " 'images/7095701\\\\7095701_9c9d2bd440ca2bf86fcf2121d4574b65.jpg',\n",
       " 'images/7095701\\\\7095701_c8a451e0ae4a67cb60b2d8b173d75cab.jpg']"
      ]
     },
     "execution_count": 23,
     "metadata": {},
     "output_type": "execute_result"
    }
   ],
   "source": [
    "glob.glob(os.path.join('images/7095701','*.jpg'))"
   ]
  }
 ],
 "metadata": {
  "anaconda-cloud": {},
  "kernelspec": {
   "display_name": "Python [default]",
   "language": "python",
   "name": "python3"
  },
  "language_info": {
   "codemirror_mode": {
    "name": "ipython",
    "version": 3
   },
   "file_extension": ".py",
   "mimetype": "text/x-python",
   "name": "python",
   "nbconvert_exporter": "python",
   "pygments_lexer": "ipython3",
   "version": "3.5.2"
  }
 },
 "nbformat": 4,
 "nbformat_minor": 1
}
